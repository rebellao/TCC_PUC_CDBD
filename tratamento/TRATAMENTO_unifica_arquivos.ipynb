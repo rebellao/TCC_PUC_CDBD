{
 "cells": [
  {
   "cell_type": "markdown",
   "metadata": {},
   "source": [
    "#### 1 - unir dados de preços"
   ]
  },
  {
   "cell_type": "code",
   "execution_count": 5,
   "metadata": {},
   "outputs": [],
   "source": [
    "import pandas as pd\n",
    "\n",
    "file_path = 'D:\\\\Pós DS\\\\prep\\\\bnw_data_price.csv'\n",
    "df_beleza_price = pd.read_csv(file_path, delimiter=';', encoding='utf-8-sig')\n",
    "\n",
    "file_path = 'D:\\\\Pós DS\\\\prep\\\\amazon_data_price.csv'\n",
    "df_amazon_price = pd.read_csv(file_path, delimiter=';', encoding='utf-8-sig')\n",
    "\n",
    "file_path = 'D:\\\\Pós DS\\\\prep\\\\epoca_data_price.csv'\n",
    "df_epoca_price = pd.read_csv(file_path, delimiter=';', encoding='utf-8-sig')"
   ]
  },
  {
   "cell_type": "code",
   "execution_count": 6,
   "metadata": {},
   "outputs": [],
   "source": [
    "df_beleza_price['origem'] = \"BNW\"\n",
    "df_amazon_price['origem'] = \"AMAZON\"\n",
    "df_epoca_price['origem'] = \"EPOCA\""
   ]
  },
  {
   "cell_type": "code",
   "execution_count": 12,
   "metadata": {},
   "outputs": [],
   "source": [
    "df_beleza_price.rename(columns={'prod-descr': 'prod-descr', 'prod-marca': 'prod-marca', 'prod-preco': 'prod-preco', 'data_ref': 'data-ref', 'spo-temp': 'spo-temp', 'spo-umid': 'spo-umid', 'spo-uv': 'spo-uv', 'bra-temp': 'bra-temp', 'bra-umid': 'bra-umid',\t'bra-uv': 'bra-uv', 'pve-temp': 'pve-temp', 'pve-umid': 'pve-umid', 'pve-uv': 'pve-uv',\t'flo-temp': 'flo-temp',\t'flo-umid': 'flo-umid', 'flo-uv': 'flo-uv',\t'rj-temp': 'rj-temp', 'rj-umid': 'rj-umid',\t'rj-uv': 'rj-uv', 'periodo_dia': 'periodo-dia'}, inplace=True)\n",
    "df_amazon_price.rename(columns={'prod_descricao': 'prod-descr', 'prod_marca': 'prod-marca', 'prod_price': 'prod-preco', 'prod_dataref': 'data-ref', 'spo-temp': 'spo-temp', 'spo-umid': 'spo-umid', 'spo-uv': 'spo-uv', 'bra-temp': 'bra-temp', 'bra-umid': 'bra-umid',\t'bra-uv': 'bra-uv', 'pve-temp': 'pve-temp', 'pve-umid': 'pve-umid', 'pve-uv': 'pve-uv',\t'flo-temp': 'flo-temp',\t'flo-umid': 'flo-umid', 'flo-uv': 'flo-uv',\t'rj-temp': 'rj-temp', 'rj-umid': 'rj-umid',\t'rj-uv': 'rj-uv', 'periodo_dia': 'periodo-dia'}, inplace=True)\n",
    "df_epoca_price.rename(columns={'prod_descricao': 'prod-descr', 'prod_marca': 'prod-marca', 'prod_price': 'prod-preco', 'prod_dataref': 'data-ref', 'spo-temp': 'spo-temp', 'spo-umid': 'spo-umid', 'spo-uv': 'spo-uv', 'bra-temp': 'bra-temp', 'bra-umid': 'bra-umid',\t'bra-uv': 'bra-uv', 'pve-temp': 'pve-temp', 'pve-umid': 'pve-umid', 'pve-uv': 'pve-uv',\t'flo-temp': 'flo-temp',\t'flo-umid': 'flo-umid', 'flo-uv': 'flo-uv',\t'rj-temp': 'rj-temp', 'rj-umid': 'rj-umid',\t'rj-uv': 'rj-uv', 'periodo_dia': 'periodo-dia'}, inplace=True)\n",
    "\n",
    "# Concatenando os DataFrames\n",
    "df_full_price = pd.concat([df_beleza_price, df_amazon_price, df_epoca_price], axis=0, ignore_index=True)"
   ]
  },
  {
   "cell_type": "code",
   "execution_count": 13,
   "metadata": {},
   "outputs": [],
   "source": [
    "df_full_price = df_full_price.sort_values(by=['prod-marca', 'prod-descr'], ascending=[True, True])\n",
    "\n",
    "df_full_price.to_csv(r'D:\\\\Pós DS\\\\prep\\\\FULL_DATA_PRICE.csv', index=False, sep=';', encoding='utf-8-sig')"
   ]
  },
  {
   "cell_type": "markdown",
   "metadata": {},
   "source": [
    "#### 2 - unir dados de comentarios"
   ]
  },
  {
   "cell_type": "code",
   "execution_count": 14,
   "metadata": {},
   "outputs": [],
   "source": [
    "file_path = 'D:\\\\Pós DS\\\\prep\\\\bnw_data_comentario.csv'\n",
    "df_beleza_coment = pd.read_csv(file_path, delimiter=';', encoding='utf-8-sig')\n",
    "\n",
    "file_path = 'D:\\\\Pós DS\\\\prep\\\\amazon_data_comentario.csv'\n",
    "df_amazon_coment = pd.read_csv(file_path, delimiter=';', encoding='utf-8-sig')\n",
    "\n",
    "file_path = 'D:\\\\Pós DS\\\\prep\\\\epoca_data_comentario.csv'\n",
    "df_epoca_coment = pd.read_csv(file_path, delimiter=';', encoding='utf-8-sig')"
   ]
  },
  {
   "cell_type": "code",
   "execution_count": 18,
   "metadata": {},
   "outputs": [],
   "source": [
    "df_beleza_coment.rename(columns={'prod-descr': 'prod-descr', 'prod-marca': 'prod-marca', 'prod-comentario': 'prod-comentario', 'prod-aval': 'prod-aval'}, inplace=True)\n",
    "df_amazon_coment.rename(columns={'prod_descricao': 'prod-descr', 'prod_marca': 'prod-marca', 'prod_comentario': 'prod-comentario', 'prod_avaliacao': 'prod-aval'}, inplace=True)\n",
    "df_epoca_coment.rename(columns={'prod_descricao': 'prod-descr', 'prod_marca': 'prod-marca', 'prod_comentario': 'prod-comentario', 'prod_avaliacao': 'prod-aval'}, inplace=True)\n",
    "\n",
    "# Concatenando os DataFrames\n",
    "df_full_coment = pd.concat([df_beleza_coment, df_amazon_coment, df_epoca_coment], axis=0, ignore_index=True)"
   ]
  },
  {
   "cell_type": "code",
   "execution_count": 19,
   "metadata": {},
   "outputs": [],
   "source": [
    "df_full_coment = df_full_coment.sort_values(by=['prod-marca', 'prod-descr'], ascending=[True, True])\n",
    "\n",
    "df_full_coment.to_csv(r'D:\\\\Pós DS\\\\prep\\\\FULL_DATA_COMENT.csv', index=False, sep=';', encoding='utf-8-sig')"
   ]
  },
  {
   "cell_type": "markdown",
   "metadata": {},
   "source": [
    "#### 3 - unir dados de detalhes dos produtos"
   ]
  },
  {
   "cell_type": "code",
   "execution_count": 17,
   "metadata": {},
   "outputs": [],
   "source": [
    "file_path = 'D:\\\\Pós DS\\\\prep\\\\bnw_data_detalhe.csv'\n",
    "df_beleza_det = pd.read_csv(file_path, delimiter=';', encoding='utf-8-sig')\n",
    "\n",
    "file_path = 'D:\\\\Pós DS\\\\prep\\\\amazon_data_detalhe.csv'\n",
    "df_amazon_det = pd.read_csv(file_path, delimiter=';', encoding='utf-8-sig')\n",
    "\n",
    "file_path = 'D:\\\\Pós DS\\\\prep\\\\epoca_data_detalhe.csv'\n",
    "df_epoca_det = pd.read_csv(file_path, delimiter=';', encoding='utf-8-sig')"
   ]
  },
  {
   "cell_type": "code",
   "execution_count": 20,
   "metadata": {},
   "outputs": [],
   "source": [
    "df_beleza_det.rename(columns={'prod-descr': 'prod-descr', 'prod-marca': 'prod-marca', 'prod-detalhe': 'prod-detalhe', 'prod_fps': 'prod-fps'}, inplace=True)\n",
    "df_amazon_det.rename(columns={'prod_descricao': 'prod-descr', 'prod_marca': 'prod-marca', 'prod_detalhe': 'prod-detalhe', 'prod_fps': 'prod-fps'}, inplace=True)\n",
    "df_epoca_det.rename(columns={'prod_descricao': 'prod-descr', 'prod_marca': 'prod-marca', 'prod_detalhe': 'prod-detalhe', 'prod_fps': 'prod-fps'}, inplace=True)\n",
    "\n",
    "# Concatenando os DataFrames\n",
    "df_full_det = pd.concat([df_beleza_det, df_amazon_det, df_epoca_det], axis=0, ignore_index=True)"
   ]
  },
  {
   "cell_type": "code",
   "execution_count": 21,
   "metadata": {},
   "outputs": [],
   "source": [
    "df_full_det = df_full_det.sort_values(by=['prod-marca', 'prod-descr'], ascending=[True, True])\n",
    "\n",
    "df_full_det.to_csv(r'D:\\\\Pós DS\\\\prep\\\\FULL_DATA_DET.csv', index=False, sep=';', encoding='utf-8-sig')"
   ]
  },
  {
   "cell_type": "markdown",
   "metadata": {},
   "source": [
    "#### 4 - unir atributos"
   ]
  },
  {
   "cell_type": "code",
   "execution_count": 22,
   "metadata": {},
   "outputs": [],
   "source": [
    "file_path = 'D:\\\\Pós DS\\\\prep\\\\bnw_data_detalhe_atributos.csv'\n",
    "df_beleza_atr = pd.read_csv(file_path, delimiter=';', encoding='utf-8-sig')\n",
    "\n",
    "file_path = 'D:\\\\Pós DS\\\\prep\\\\amazon_data_detalhe_atributos.csv'\n",
    "df_amazon_atr = pd.read_csv(file_path, delimiter=';', encoding='utf-8-sig')\n",
    "\n",
    "file_path = 'D:\\\\Pós DS\\\\prep\\\\epoca_data_detalhe_atributos.csv'\n",
    "df_epoca_atr = pd.read_csv(file_path, delimiter=';', encoding='utf-8-sig')"
   ]
  },
  {
   "cell_type": "code",
   "execution_count": 23,
   "metadata": {},
   "outputs": [],
   "source": [
    "df_full_atr = pd.concat([df_beleza_atr, df_amazon_atr, df_epoca_atr], axis=0, ignore_index=True)\n",
    "\n",
    "df_full_atr.to_csv(r'D:\\\\Pós DS\\\\prep\\\\FULL_DATA_ATR.csv', index=False, sep=';', encoding='utf-8-sig')"
   ]
  },
  {
   "cell_type": "code",
   "execution_count": null,
   "metadata": {},
   "outputs": [],
   "source": []
  }
 ],
 "metadata": {
  "kernelspec": {
   "display_name": "Python 3",
   "language": "python",
   "name": "python3"
  },
  "language_info": {
   "codemirror_mode": {
    "name": "ipython",
    "version": 3
   },
   "file_extension": ".py",
   "mimetype": "text/x-python",
   "name": "python",
   "nbconvert_exporter": "python",
   "pygments_lexer": "ipython3",
   "version": "3.12.6"
  }
 },
 "nbformat": 4,
 "nbformat_minor": 2
}
