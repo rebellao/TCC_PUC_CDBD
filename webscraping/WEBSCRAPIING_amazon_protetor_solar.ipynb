{
 "cells": [
  {
   "cell_type": "code",
   "execution_count": 1,
   "metadata": {},
   "outputs": [],
   "source": [
    "import time\n",
    "import pandas as pd\n",
    "from datetime import datetime\n",
    "\n",
    "from selenium import webdriver\n",
    "from selenium.webdriver.chrome.service import Service\n",
    "from webdriver_manager.chrome import ChromeDriverManager \n",
    "from selenium.webdriver.common.by import By"
   ]
  },
  {
   "cell_type": "code",
   "execution_count": 2,
   "metadata": {},
   "outputs": [],
   "source": [
    "options = webdriver.ChromeOptions()\n",
    "options.add_argument(\"--start-maximized\")\n",
    "\n",
    "service = Service()\n",
    "driver = webdriver.Chrome(service=Service(ChromeDriverManager().install()), options=options)\n"
   ]
  },
  {
   "cell_type": "code",
   "execution_count": 3,
   "metadata": {},
   "outputs": [],
   "source": [
    "url = \"https://www.amazon.com.br\"\n",
    "\n",
    "driver.get(url)\n",
    "#time.sleep(5)"
   ]
  },
  {
   "cell_type": "code",
   "execution_count": 4,
   "metadata": {},
   "outputs": [],
   "source": [
    "#campo de busca\n",
    "search_box = driver.find_element(By.ID, 'twotabsearchtextbox')\n",
    "search_box.send_keys(\"protetor solar facial\")\n",
    "\n",
    "#botao de busca\n",
    "search_button = driver.find_element(By.ID, 'nav-search-submit-button')\n",
    "search_button.click()\n",
    "\n",
    "driver.implicitly_wait(5)"
   ]
  },
  {
   "cell_type": "code",
   "execution_count": 5,
   "metadata": {},
   "outputs": [],
   "source": [
    "#obter os links dos produtos\n",
    "link = driver.find_elements(By.XPATH, \"//a[contains(@class, 'a-link-normal s-no-outline')]\")\n",
    "\n",
    "prod_link_list = []\n",
    "prod_audit = []\n",
    "\n",
    "for lk in link:\n",
    "    href_value = lk.get_attribute(\"href\")\n",
    "    prod_link_list.append(href_value)\n",
    "    prod_audit.append(lk.text)\n",
    "\n",
    "#print(prod_link_list)\n",
    "#print(len(prod_link_list))\n",
    "#print(prod_audit)"
   ]
  },
  {
   "cell_type": "code",
   "execution_count": 6,
   "metadata": {},
   "outputs": [],
   "source": [
    "prod_price = []\n",
    "prod_descr = []\n",
    "prod_link = []\n",
    "prod_marca = []\n",
    "prod_detalhe = []\n",
    "prod_comentario = []\n",
    "prod_aval = []\n",
    "prod_dataref = []\n",
    "\n",
    "# Obter data, hora e minuto atual\n",
    "data_hora_atual = datetime.now()\n",
    "\n",
    "for url in prod_link_list:\n",
    "    driver.get(url)\n",
    "    time.sleep(5)\n",
    "\n",
    "    try:\n",
    "        price = driver.find_element(By.XPATH, \"//span[contains(@class, 'a-price aok-align-center')]\")\n",
    "        check_price = price.text.strip()\n",
    "    except:\n",
    "        check_price = ''\n",
    "\n",
    "    if check_price != '':\n",
    "\n",
    "        prod_price.append(price.text.replace(\"\\n\", \",\").replace(\"R$\",\"\"))\n",
    "\n",
    "        prod_dataref.append(data_hora_atual)\n",
    "\n",
    "        prod_link.append(url)\n",
    "\n",
    "        descricao = driver.find_element(By.ID, \"productTitle\")\n",
    "        prod_descr.append(descricao.text)\n",
    "\n",
    "        try:\n",
    "            marca = driver.find_element(By.XPATH, \"//*[@id='detailBullets_feature_div']/ul/li[2]/span/span[2]\")\n",
    "            prod_marca.append(marca.text)\n",
    "        except:\n",
    "            prod_marca.append(\"SEM MARCA\")\n",
    "\n",
    "        try:\n",
    "            detalhe = driver.find_element(By.ID, \"productDescription_feature_div\")\n",
    "            prod_detalhe.append(detalhe.text)\n",
    "        except:\n",
    "            try:\n",
    "                detalhe = driver.find_element(By.ID, \"richProductDescription_feature_div\")\n",
    "                prod_detalhe.append(detalhe.text)\n",
    "            except:\n",
    "                detalhe = \"SEM DETALHES\"\n",
    "                prod_detalhe.append(detalhe)\n",
    "\n",
    "        try:\n",
    "            comentario = driver.find_element(By.ID, \"cm-cr-dp-review-list\")\n",
    "            prod_comentario.append(comentario.text)\n",
    "        except:\n",
    "            comentario = \"SEM COMENTARIOS\"\n",
    "            prod_comentario.append(comentario)\n",
    "\n",
    "        try:\n",
    "            avaliacao = driver.find_element(By.XPATH, \"//*[@id='cm_cr_dp_d_rating_histogram']/div[2]/div/div[2]/div/span/span\")\n",
    "            prod_aval.append(avaliacao.text)\n",
    "        except:\n",
    "            prod_aval.append(\"SEM AVALIACOES\")\n",
    "\n",
    "driver.quit()\n"
   ]
  },
  {
   "cell_type": "code",
   "execution_count": 7,
   "metadata": {},
   "outputs": [],
   "source": [
    "tab_resultado = {\n",
    "    \"prod_descricao\" : prod_descr,\n",
    "    \"prod_marca\" : prod_marca,\n",
    "    \"prod_URL\" : prod_link,\n",
    "    \"prod_price\" : prod_price,\n",
    "    \"prod_detalhe\" : prod_detalhe,\n",
    "    \"prod_comentario\" : prod_comentario,\n",
    "    \"prod_avaliacao\" : prod_aval,\n",
    "    \"prod_dataref\" : prod_dataref\n",
    "}\n",
    "\n",
    "df = pd.DataFrame(tab_resultado)"
   ]
  },
  {
   "cell_type": "code",
   "execution_count": 8,
   "metadata": {},
   "outputs": [
    {
     "name": "stdout",
     "output_type": "stream",
     "text": [
      "49\n",
      "49\n",
      "49\n",
      "49\n",
      "49\n",
      "49\n",
      "49\n"
     ]
    }
   ],
   "source": [
    "print(len(prod_descr))\n",
    "print(len(prod_marca))\n",
    "print(len(prod_link))\n",
    "print(len(prod_price))\n",
    "print(len(prod_detalhe))\n",
    "print(len(prod_comentario))\n",
    "print(len(prod_aval))"
   ]
  },
  {
   "cell_type": "code",
   "execution_count": 9,
   "metadata": {},
   "outputs": [],
   "source": [
    "df.to_csv(\"C:\\\\Users\\\\Amend\\\\Downloads\\\\AMAZON_TEMP_22082024_1640.csv\", sep=';', index=False, encoding='utf-8-sig')"
   ]
  },
  {
   "cell_type": "code",
   "execution_count": null,
   "metadata": {},
   "outputs": [],
   "source": []
  }
 ],
 "metadata": {
  "kernelspec": {
   "display_name": "Python 3",
   "language": "python",
   "name": "python3"
  },
  "language_info": {
   "codemirror_mode": {
    "name": "ipython",
    "version": 3
   },
   "file_extension": ".py",
   "mimetype": "text/x-python",
   "name": "python",
   "nbconvert_exporter": "python",
   "pygments_lexer": "ipython3",
   "version": "3.12.5"
  }
 },
 "nbformat": 4,
 "nbformat_minor": 2
}
