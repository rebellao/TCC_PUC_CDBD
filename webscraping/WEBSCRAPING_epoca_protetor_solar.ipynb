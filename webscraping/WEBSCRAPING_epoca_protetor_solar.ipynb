{
 "cells": [
  {
   "cell_type": "code",
   "execution_count": 1,
   "metadata": {},
   "outputs": [],
   "source": [
    "from selenium import webdriver\n",
    "from selenium.webdriver.common.by import By\n",
    "from selenium.webdriver.chrome.service import Service\n",
    "from selenium.webdriver.chrome.options import Options\n",
    "import time\n",
    "import pandas as pd\n",
    "from datetime import datetime"
   ]
  },
  {
   "cell_type": "code",
   "execution_count": 2,
   "metadata": {},
   "outputs": [],
   "source": [
    "# Configurando as opções do Chrome\n",
    "chrome_options = Options()\n",
    "chrome_options.add_argument(\"--start-maximized\")\n",
    "chrome_options.add_argument(\"user-agent=Mozilla/5.0 (Windows NT 10.0; Win64; x64) AppleWebKit/537.36 (KHTML, like Gecko) Chrome/107.0.0.0 Safari/537.36\")\n",
    "chrome_options.add_argument(\"accept-language=pt-BR,pt;q=0.9\")\n",
    "chrome_options.add_argument(\"referer=https://www.epocacosmeticos.com.br/pesquisa?q=\")\n",
    "chrome_options.add_argument(\"accept=text/html,application/xhtml+xml,application/xml;q=0.9,image/webp,image/apng,*/*;q=0.8\")\n",
    "chrome_options.add_argument(\"accept-encoding=gzip, deflate, br\")\n",
    "chrome_options.add_argument(\"connection=keep-alive\")\n",
    "chrome_options.add_argument(\"upgrade-insecure-requests=1\")\n",
    "chrome_options.add_argument(\"cache-control=max-age=0\")\n",
    "#chrome_options.add_experimental_option(\"prefs\", {\n",
    "#    \"profile.managed_default_content_settings.javascript\": 2\n",
    "#})\n",
    "\n",
    "service = Service()\n",
    "driver = webdriver.Chrome(service=service, options=chrome_options)\n"
   ]
  },
  {
   "cell_type": "code",
   "execution_count": 3,
   "metadata": {},
   "outputs": [],
   "source": [
    "url = \"https://www.epocacosmeticos.com.br/pesquisa?q=protetor%20solar%20facial\"\n",
    "\n",
    "driver.get(url)\n",
    "#time.sleep(10)"
   ]
  },
  {
   "cell_type": "code",
   "execution_count": 4,
   "metadata": {},
   "outputs": [],
   "source": [
    "#link = driver.find_elements(By.XPATH, \"//a[@data-content-item='true']\")\n",
    "link = driver.find_elements(By.XPATH, \"//a[@data-content-item='true']\")\n",
    "prod_link_list = []\n",
    "prod_audit = []\n",
    "\n",
    "for lk in link:\n",
    "    href_value = lk.get_attribute(\"href\")\n",
    "    prod_link_list.append(href_value)\n",
    "    prod_audit.append(lk.text)\n",
    "\n",
    "#prod_link_list\n",
    "#prod_audit"
   ]
  },
  {
   "cell_type": "code",
   "execution_count": 5,
   "metadata": {},
   "outputs": [],
   "source": [
    "prod_price = []\n",
    "prod_descr = []\n",
    "prod_marca = []\n",
    "prod_detalhe = []\n",
    "prod_comentario = []\n",
    "prod_aval = []\n",
    "prod_dataref = []\n",
    "prod_link_ok = []\n",
    "\n",
    "# Obter data, hora e minuto atual\n",
    "data_hora_atual = datetime.now()\n",
    "\n",
    "for url in prod_link_list:\n",
    "    driver.get(url)\n",
    "    time.sleep(4)\n",
    "\n",
    "    price = driver.find_elements(By.XPATH, \"//div[@data-content-installments='true']\")\n",
    "    for p in price:\n",
    "        if p.text.strip():\n",
    "            \n",
    "            prod_link_ok.append(url)    \n",
    "\n",
    "            prod_price.append(p.text.replace('ou R$ ','').replace(' no cartão',''))\n",
    "\n",
    "            h1_elements = driver.find_elements(By.TAG_NAME, 'h1')\n",
    "            h2_elements = driver.find_elements(By.TAG_NAME, 'h2')\n",
    "\n",
    "            # Filtrar pelo que possui a classe específica\n",
    "            for h1_element in h1_elements:\n",
    "                if 'sr-only' in h1_element.get_attribute('class'):\n",
    "                    h1_text = h1_element.text\n",
    "                    prod_descr.append(h1_text)\n",
    "\n",
    "            for h2_element in h2_elements:\n",
    "                if 'sr-only' in h2_element.get_attribute('class'):\n",
    "                    h2_text = h2_element.text\n",
    "                    prod_marca.append(h2_text)\n",
    "\n",
    "            try:\n",
    "                detalhe = driver.find_element(By.XPATH, \"//*[@id='__next']/main/section[1]/div[2]/div[1]/div[4]/div\")\n",
    "                texto_detalhe = detalhe.text\n",
    "            except:\n",
    "                try:\n",
    "                    detalhe = driver.find_element(By.XPATH, \"//*[@id='__next']/main/section[1]/div[2]/div[1]/div[5]/div/div/div[3]\")\n",
    "                    texto_detalhe = detalhe.text\n",
    "                except:\n",
    "                    texto_detalhe = \"SEM DETALHE\"\n",
    "            \n",
    "            prod_detalhe.append(texto_detalhe)\n",
    "\n",
    "            try:\n",
    "                avaliacao = driver.find_element(By.XPATH, \"//*[@id='__next']/main/section[1]/div[2]/div[1]/div[9]/div/div/div[1]/section[1]/div[1]/div[1]/span[1]\")\n",
    "                prod_aval.append(avaliacao.text)\n",
    "            except:\n",
    "                try:\n",
    "                    avaliacao = driver.find_element(By.XPATH, \"//*[@id='__next']/main/section[1]/div[2]/div[1]/div[10]/div/div/div[1]/section[1]/div[1]/div[1]/span[1]\")\n",
    "                    prod_aval.append(avaliacao.text)\n",
    "                except:\n",
    "                    avaliacao = \"0\"\n",
    "                    prod_aval.append(avaliacao)\n",
    "\n",
    "            #botao_load = driver.find_element(By.XPATH, \"//*[@id='__next']/main/section[1]/div[2]/div[1]/div[9]/div/div/button\")\n",
    "            #botao_load.click()\n",
    "\n",
    "            try:\n",
    "                comentario = driver.find_element(By.XPATH, \"//*[@id='__next']/main/section[1]/div[2]/div[1]/div[9]/div/div/div[2]/section[2]\")\n",
    "                prod_comentario.append(comentario.text)\n",
    "            except:\n",
    "                try:\n",
    "                    comentario = driver.find_element(By.XPATH, \"//*[@id='__next']/main/section[1]/div[2]/div[1]/div[10]/div/div/div[2]/section[2]\")\n",
    "                    prod_comentario.append(comentario.text)\n",
    "                except:\n",
    "                    prod_comentario.append(\"SEM COMENTARIOS\")\n",
    "\n",
    "            prod_dataref.append(data_hora_atual)\n",
    "    \n",
    "driver.quit()\n"
   ]
  },
  {
   "cell_type": "code",
   "execution_count": 6,
   "metadata": {},
   "outputs": [],
   "source": [
    "tab_resultado = {\n",
    "    \"prod_descricao\" : prod_descr,\n",
    "    \"prod_marca\" : prod_marca,\n",
    "    \"prod_URL\" : prod_link_ok,\n",
    "    \"prod_price\" : prod_price,\n",
    "    \"prod_detalhe\" : prod_detalhe,\n",
    "    \"prod_comentario\" : prod_comentario,\n",
    "    \"prod_avaliacao\" : prod_aval,\n",
    "    \"prod_dataref\" : prod_dataref\n",
    "}\n",
    "\n",
    "df = pd.DataFrame(tab_resultado)"
   ]
  },
  {
   "cell_type": "code",
   "execution_count": 7,
   "metadata": {},
   "outputs": [
    {
     "name": "stdout",
     "output_type": "stream",
     "text": [
      "20\n",
      "20\n",
      "20\n",
      "20\n",
      "20\n",
      "20\n",
      "20\n"
     ]
    }
   ],
   "source": [
    "print(len(prod_descr))\n",
    "print(len(prod_marca))\n",
    "print(len(prod_link_ok))\n",
    "print(len(prod_price))\n",
    "print(len(prod_detalhe))\n",
    "print(len(prod_comentario))\n",
    "print(len(prod_aval))"
   ]
  },
  {
   "cell_type": "code",
   "execution_count": 8,
   "metadata": {},
   "outputs": [],
   "source": [
    "df.to_csv(\"C:\\\\Users\\\\Amend\\\\Downloads\\\\EPOCA_TEMP_22082024_1640.csv\", sep=';', index=False, encoding='utf-8-sig')"
   ]
  },
  {
   "cell_type": "code",
   "execution_count": null,
   "metadata": {},
   "outputs": [],
   "source": []
  }
 ],
 "metadata": {
  "kernelspec": {
   "display_name": "Python 3",
   "language": "python",
   "name": "python3"
  },
  "language_info": {
   "codemirror_mode": {
    "name": "ipython",
    "version": 3
   },
   "file_extension": ".py",
   "mimetype": "text/x-python",
   "name": "python",
   "nbconvert_exporter": "python",
   "pygments_lexer": "ipython3",
   "version": "3.12.5"
  }
 },
 "nbformat": 4,
 "nbformat_minor": 2
}
